{
 "cells": [
  {
   "cell_type": "code",
   "execution_count": 1,
   "metadata": {
    "_cell_guid": "b1076dfc-b9ad-4769-8c92-a6c4dae69d19",
    "_uuid": "8f2839f25d086af736a60e9eeb907d3b93b6e0e5",
    "execution": {
     "iopub.execute_input": "2020-11-09T05:33:09.688384Z",
     "iopub.status.busy": "2020-11-09T05:33:09.687602Z",
     "iopub.status.idle": "2020-11-09T05:33:09.691152Z",
     "shell.execute_reply": "2020-11-09T05:33:09.690349Z"
    },
    "papermill": {
     "duration": 0.016665,
     "end_time": "2020-11-09T05:33:09.691324",
     "exception": false,
     "start_time": "2020-11-09T05:33:09.674659",
     "status": "completed"
    },
    "tags": []
   },
   "outputs": [],
   "source": [
    "# This Python 3 environment comes with many helpful analytics libraries installed\n",
    "# It is defined by the kaggle/python Docker image: https://github.com/kaggle/docker-python\n",
    "# For example, here's several helpful packages to load\n",
    "\n",
    "import numpy as np # linear algebra\n",
    "import pandas as pd # data processing, CSV file I/O (e.g. pd.read_csv)\n",
    "\n",
    "# Input data files are available in the read-only \"../input/\" directory\n",
    "# For example, running this (by clicking run or pressing Shift+Enter) will list all files under the input directory\n",
    "\n",
    "import os\n",
    "for dirname, _, filenames in os.walk('/kaggle/input'):\n",
    "    for filename in filenames:\n",
    "        print(os.path.join(dirname, filename))\n",
    "\n",
    "# You can write up to 20GB to the current directory (/kaggle/working/) that gets preserved as output when you create a version using \"Save & Run All\" \n",
    "# You can also write temporary files to /kaggle/temp/, but they won't be saved outside of the current session"
   ]
  },
  {
   "cell_type": "code",
   "execution_count": 2,
   "metadata": {
    "_cell_guid": "79c7e3d0-c299-4dcb-8224-4455121ee9b0",
    "_uuid": "d629ff2d2480ee46fbb7e2d37f6b5fab8052498a",
    "execution": {
     "iopub.execute_input": "2020-11-09T05:33:09.711434Z",
     "iopub.status.busy": "2020-11-09T05:33:09.710710Z",
     "iopub.status.idle": "2020-11-09T05:33:09.713976Z",
     "shell.execute_reply": "2020-11-09T05:33:09.713425Z"
    },
    "papermill": {
     "duration": 0.015148,
     "end_time": "2020-11-09T05:33:09.714085",
     "exception": false,
     "start_time": "2020-11-09T05:33:09.698937",
     "status": "completed"
    },
    "tags": []
   },
   "outputs": [],
   "source": [
    "def dfs(src,target,limit,visited_states):\n",
    "\n",
    " if src == target :\n",
    "     return True\n",
    " if (limit <= 0):\n",
    "     return False\n",
    "\n",
    " visited_states.append(src);\n",
    "\n",
    " poss_moves = possible_moves(src,visited_states)\n",
    "\n",
    " for move in poss_moves:\n",
    "     if dfs(move, target, limit-1, visited_states):\n",
    "            return True\n",
    "\n",
    " return False"
   ]
  },
  {
   "cell_type": "code",
   "execution_count": 3,
   "metadata": {
    "execution": {
     "iopub.execute_input": "2020-11-09T05:33:09.734546Z",
     "iopub.status.busy": "2020-11-09T05:33:09.732695Z",
     "iopub.status.idle": "2020-11-09T05:33:09.737468Z",
     "shell.execute_reply": "2020-11-09T05:33:09.736872Z"
    },
    "papermill": {
     "duration": 0.018167,
     "end_time": "2020-11-09T05:33:09.737578",
     "exception": false,
     "start_time": "2020-11-09T05:33:09.719411",
     "status": "completed"
    },
    "tags": []
   },
   "outputs": [],
   "source": [
    "def possible_moves(state,visited_states):\n",
    "\n",
    " b = state.index(-1);\n",
    " d = []\n",
    "\n",
    " if b - 3 in range(9):\n",
    "     d.append('u')\n",
    " if b not in [0,3,6]:\n",
    "     d.append('l')\n",
    " if b not in [2,5,8]:\n",
    "     d.append('r')\n",
    " if b + 3 in range(9):\n",
    "     d.append('d')\n",
    "\n",
    " pos_moves = []\n",
    "\n",
    " for m in d:\n",
    "     pos_moves.append(gen(state, m, b))\n",
    "\n",
    " return [move for move in pos_moves if move not in visited_states]"
   ]
  },
  {
   "cell_type": "code",
   "execution_count": 4,
   "metadata": {
    "execution": {
     "iopub.execute_input": "2020-11-09T05:33:09.757340Z",
     "iopub.status.busy": "2020-11-09T05:33:09.756314Z",
     "iopub.status.idle": "2020-11-09T05:33:09.760364Z",
     "shell.execute_reply": "2020-11-09T05:33:09.759628Z"
    },
    "papermill": {
     "duration": 0.017283,
     "end_time": "2020-11-09T05:33:09.760477",
     "exception": false,
     "start_time": "2020-11-09T05:33:09.743194",
     "status": "completed"
    },
    "tags": []
   },
   "outputs": [],
   "source": [
    "def gen(state, m, b):\n",
    "\n",
    " temp = state.copy()\n",
    "\n",
    " if m == 'u': temp[b-3] , temp[b] = temp[b], temp[b-3]\n",
    " if m == 'l': temp[b-1] , temp[b] = temp[b], temp[b-1]\n",
    " if m == 'r': temp[b+1] , temp[b] = temp[b], temp[b+1]\n",
    " if m == 'd': temp[b+3] , temp[b] = temp[b], temp[b+3]\n",
    "\n",
    " return temp\n"
   ]
  },
  {
   "cell_type": "code",
   "execution_count": 5,
   "metadata": {
    "execution": {
     "iopub.execute_input": "2020-11-09T05:33:09.777929Z",
     "iopub.status.busy": "2020-11-09T05:33:09.776987Z",
     "iopub.status.idle": "2020-11-09T05:33:09.779836Z",
     "shell.execute_reply": "2020-11-09T05:33:09.780365Z"
    },
    "papermill": {
     "duration": 0.014462,
     "end_time": "2020-11-09T05:33:09.780537",
     "exception": false,
     "start_time": "2020-11-09T05:33:09.766075",
     "status": "completed"
    },
    "tags": []
   },
   "outputs": [],
   "source": [
    "def iddfs(src,target,depth):\n",
    "\n",
    " visited_states = []\n",
    "\n",
    " for i in range(1, depth+1):\n",
    "     if dfs(src, target, i, visited_states): return True\n",
    " return False"
   ]
  }
 ],
 "metadata": {
  "kernelspec": {
   "display_name": "Python 3",
   "language": "python",
   "name": "python3"
  },
  "language_info": {
   "codemirror_mode": {
    "name": "ipython",
    "version": 3
   },
   "file_extension": ".py",
   "mimetype": "text/x-python",
   "name": "python",
   "nbconvert_exporter": "python",
   "pygments_lexer": "ipython3",
   "version": "3.7.6"
  },
  "papermill": {
   "duration": 4.515402,
   "end_time": "2020-11-09T05:33:09.893485",
   "environment_variables": {},
   "exception": null,
   "input_path": "__notebook__.ipynb",
   "output_path": "__notebook__.ipynb",
   "parameters": {},
   "start_time": "2020-11-09T05:33:05.378083",
   "version": "2.1.0"
  }
 },
 "nbformat": 4,
 "nbformat_minor": 4
}
