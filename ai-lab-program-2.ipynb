{
 "cells": [
  {
   "cell_type": "markdown",
   "metadata": {
    "papermill": {
     "duration": 0.007289,
     "end_time": "2020-10-05T04:33:03.618378",
     "exception": false,
     "start_time": "2020-10-05T04:33:03.611089",
     "status": "completed"
    },
    "tags": []
   },
   "source": [
    "# 8 Puzzle Problem"
   ]
  },
  {
   "cell_type": "markdown",
   "metadata": {
    "papermill": {
     "duration": 0.006066,
     "end_time": "2020-10-05T04:33:03.631238",
     "exception": false,
     "start_time": "2020-10-05T04:33:03.625172",
     "status": "completed"
    },
    "tags": []
   },
   "source": [
    "BMS College of Engineering - Dr Kavitha Sooda <br />\n",
    "BMS College of Engineering - Dr Nagarathna N <br />\n",
    "BMS College of Engineering - Prof G R Asha  <br />\n",
    "##### Class 5C"
   ]
  },
  {
   "cell_type": "markdown",
   "metadata": {
    "papermill": {
     "duration": 0.006016,
     "end_time": "2020-10-05T04:33:03.643544",
     "exception": false,
     "start_time": "2020-10-05T04:33:03.637528",
     "status": "completed"
    },
    "tags": []
   },
   "source": [
    "## Objective\n",
    "\n",
    " Given a 3×3 board with 8 tiles and one empty space \n",
    " - Move the numbers around to match the final configuration using the empty spot \n",
    " - You can slide the numbers from above, below, left and right tiles into the empty space.\n",
    "\n",
    "![](https://media.geeksforgeeks.org/wp-content/uploads/puzzle8init.jpg)"
   ]
  },
  {
   "cell_type": "markdown",
   "metadata": {
    "papermill": {
     "duration": 0.006012,
     "end_time": "2020-10-05T04:33:03.655891",
     "exception": false,
     "start_time": "2020-10-05T04:33:03.649879",
     "status": "completed"
    },
    "tags": []
   },
   "source": [
    "### Iterative Deepening Depth First Search"
   ]
  },
  {
   "cell_type": "markdown",
   "metadata": {
    "papermill": {
     "duration": 0.006141,
     "end_time": "2020-10-05T04:33:03.668381",
     "exception": false,
     "start_time": "2020-10-05T04:33:03.662240",
     "status": "completed"
    },
    "tags": []
   },
   "source": [
    "Lets Start with a DFS function to traverse only to the given depth limit, where it checks if source equals target\n",
    "\n",
    "![](https://media.geeksforgeeks.org/wp-content/uploads/puzzle-1.jpg)"
   ]
  },
  {
   "cell_type": "code",
   "execution_count": 1,
   "metadata": {
    "execution": {
     "iopub.execute_input": "2020-10-05T04:33:03.684191Z",
     "iopub.status.busy": "2020-10-05T04:33:03.683615Z",
     "iopub.status.idle": "2020-10-05T04:33:03.688754Z",
     "shell.execute_reply": "2020-10-05T04:33:03.689223Z"
    },
    "papermill": {
     "duration": 0.014647,
     "end_time": "2020-10-05T04:33:03.689383",
     "exception": false,
     "start_time": "2020-10-05T04:33:03.674736",
     "status": "completed"
    },
    "tags": []
   },
   "outputs": [],
   "source": [
    "# Depth first search in search of target - Using Recursion\n",
    "\n",
    "def dfs(src,target,limit,visited_states):\n",
    "    # Base case if Target found\n",
    "    if src == target : \n",
    "        return True\n",
    "    \n",
    "    \n",
    "    # Base case if limit exceeded\n",
    "    if (limit <= 0):\n",
    "        return False \n",
    "    \n",
    "    \n",
    "    # Add source to visited_states\n",
    "    \n",
    "    visited_states.append(src);\n",
    "\n",
    "    \n",
    "    \n",
    "    # Find possible slides up, down, left right to current empty site\n",
    "    ### Jump to possible_moves function\n",
    "    poss_moves = possible_moves(src,visited_states) \n",
    "\n",
    "        \n",
    "        \n",
    "        \n",
    "    # For all possible moves gotten from the possible moves function\n",
    "    # Check if src equals to new targets\n",
    "    # Return True if target found in given depth limit\n",
    "    for move in poss_moves:\n",
    "        if dfs(move, target, limit-1, visited_states): return True\n",
    "    return False"
   ]
  },
  {
   "cell_type": "code",
   "execution_count": 2,
   "metadata": {
    "execution": {
     "iopub.execute_input": "2020-10-05T04:33:03.704498Z",
     "iopub.status.busy": "2020-10-05T04:33:03.703939Z",
     "iopub.status.idle": "2020-10-05T04:33:03.710339Z",
     "shell.execute_reply": "2020-10-05T04:33:03.710730Z"
    },
    "papermill": {
     "duration": 0.015119,
     "end_time": "2020-10-05T04:33:03.710851",
     "exception": false,
     "start_time": "2020-10-05T04:33:03.695732",
     "status": "completed"
    },
    "tags": []
   },
   "outputs": [],
   "source": [
    "def possible_moves(state,visited_states): \n",
    "    # Find index of empty spot and assign it to b\n",
    "    b = state.index(-1);\n",
    "    \n",
    "    #'d' for down, 'u' for up, 'r' for right, 'l' for left - directions array\n",
    "    d = []\n",
    "                                    \n",
    "    #Add all possible direction into directions array - Hint using if statements\n",
    "    if b - 3 in range(9): \n",
    "        d.append('u')\n",
    "    if b not in [0,3,6]: \n",
    "        d.append('l')\n",
    "    if b not in [2,5,8]: \n",
    "        d.append('r')\n",
    "    if b + 3 in range(9): \n",
    "        d.append('d')\n",
    "    \n",
    "    # If direction is possible then add state to move\n",
    "    pos_moves = []\n",
    "    \n",
    "    # for all possible directions find the state if that move is played\n",
    "    ### Jump to gen function to generate all possible moves in the given directions\n",
    "    for m in d:\n",
    "        pos_moves.append(gen(state, m, b))\n",
    "    \n",
    "    # return all possible moves only if the move not in visited_states\n",
    "    return [move for move in pos_moves if move not in visited_states]"
   ]
  },
  {
   "cell_type": "code",
   "execution_count": 3,
   "metadata": {
    "execution": {
     "iopub.execute_input": "2020-10-05T04:33:03.729373Z",
     "iopub.status.busy": "2020-10-05T04:33:03.725351Z",
     "iopub.status.idle": "2020-10-05T04:33:03.732174Z",
     "shell.execute_reply": "2020-10-05T04:33:03.731694Z"
    },
    "papermill": {
     "duration": 0.015206,
     "end_time": "2020-10-05T04:33:03.732274",
     "exception": false,
     "start_time": "2020-10-05T04:33:03.717068",
     "status": "completed"
    },
    "tags": []
   },
   "outputs": [],
   "source": [
    "def gen(state, m, b): # m(move) is direction to slide, b(blank) is index of empty spot\n",
    "    # create a copy of current state to test the move\n",
    "    temp = state.copy()                              \n",
    "    \n",
    "    # if move is to slide empty spot to the left and so on\n",
    "    if m == 'u': temp[b-3] , temp[b] = temp[b], temp[b-3]\n",
    "    if m == 'l': temp[b-1] , temp[b] = temp[b], temp[b-1]\n",
    "    if m == 'r': temp[b+1] , temp[b] = temp[b], temp[b+1]\n",
    "    if m == 'd': temp[b+3] , temp[b] = temp[b], temp[b+3]   \n",
    "    \n",
    "    # return new state with tested move to later check if \"src == target\"\n",
    "    return temp"
   ]
  },
  {
   "cell_type": "markdown",
   "metadata": {
    "papermill": {
     "duration": 0.006307,
     "end_time": "2020-10-05T04:33:03.746450",
     "exception": false,
     "start_time": "2020-10-05T04:33:03.740143",
     "status": "completed"
    },
    "tags": []
   },
   "source": [
    "In the next function:\n",
    "- Start with a depth of 1 until given depth see if target is reached To find the least depth required to find target\n",
    "- Create a visited_stated array to keep a check in all visited sites \n",
    "- Call DFS function for given depth limit"
   ]
  },
  {
   "cell_type": "code",
   "execution_count": 4,
   "metadata": {
    "execution": {
     "iopub.execute_input": "2020-10-05T04:33:03.764739Z",
     "iopub.status.busy": "2020-10-05T04:33:03.764173Z",
     "iopub.status.idle": "2020-10-05T04:33:03.766705Z",
     "shell.execute_reply": "2020-10-05T04:33:03.766300Z"
    },
    "papermill": {
     "duration": 0.014018,
     "end_time": "2020-10-05T04:33:03.766804",
     "exception": false,
     "start_time": "2020-10-05T04:33:03.752786",
     "status": "completed"
    },
    "tags": []
   },
   "outputs": [],
   "source": [
    "def iddfs(src,target,depth):\n",
    "    visited_states = []\n",
    "    # Return Min depth at which the target was found\n",
    "    for i in range(1, depth+1):\n",
    "        if dfs(src, target, i, visited_states): return True\n",
    "    return False"
   ]
  },
  {
   "cell_type": "code",
   "execution_count": 5,
   "metadata": {
    "execution": {
     "iopub.execute_input": "2020-10-05T04:33:03.786955Z",
     "iopub.status.busy": "2020-10-05T04:33:03.786260Z",
     "iopub.status.idle": "2020-10-05T04:33:03.789731Z",
     "shell.execute_reply": "2020-10-05T04:33:03.790160Z"
    },
    "papermill": {
     "duration": 0.016941,
     "end_time": "2020-10-05T04:33:03.790292",
     "exception": false,
     "start_time": "2020-10-05T04:33:03.773351",
     "status": "completed"
    },
    "tags": []
   },
   "outputs": [
    {
     "data": {
      "text/plain": [
       "False"
      ]
     },
     "execution_count": 5,
     "metadata": {},
     "output_type": "execute_result"
    }
   ],
   "source": [
    "#Test 1\n",
    "src = [1,2,3,-1,4,5,6,7,8]\n",
    "target = [1,2,3,4,5,-1,6,7,8]         \n",
    "       \n",
    "\n",
    "\n",
    "depth = 1\n",
    "iddfs(src, target, depth) # Minimum depth should be 2"
   ]
  },
  {
   "cell_type": "code",
   "execution_count": 6,
   "metadata": {
    "execution": {
     "iopub.execute_input": "2020-10-05T04:33:03.810264Z",
     "iopub.status.busy": "2020-10-05T04:33:03.809667Z",
     "iopub.status.idle": "2020-10-05T04:33:03.811954Z",
     "shell.execute_reply": "2020-10-05T04:33:03.812359Z"
    },
    "papermill": {
     "duration": 0.01492,
     "end_time": "2020-10-05T04:33:03.812480",
     "exception": false,
     "start_time": "2020-10-05T04:33:03.797560",
     "status": "completed"
    },
    "tags": []
   },
   "outputs": [
    {
     "data": {
      "text/plain": [
       "True"
      ]
     },
     "execution_count": 6,
     "metadata": {},
     "output_type": "execute_result"
    }
   ],
   "source": [
    "# Test 2\n",
    "src = [1,2,3,-1,4,5,6,7,8] \n",
    "target=[1,2,3,6,4,5,-1,7,8]\n",
    "\n",
    "depth = 1\n",
    "iddfs(src, target, depth) # Minimum depth is 1"
   ]
  },
  {
   "cell_type": "code",
   "execution_count": 7,
   "metadata": {
    "execution": {
     "iopub.execute_input": "2020-10-05T04:33:03.830540Z",
     "iopub.status.busy": "2020-10-05T04:33:03.830022Z",
     "iopub.status.idle": "2020-10-05T04:33:03.834463Z",
     "shell.execute_reply": "2020-10-05T04:33:03.834894Z"
    },
    "papermill": {
     "duration": 0.015054,
     "end_time": "2020-10-05T04:33:03.835041",
     "exception": false,
     "start_time": "2020-10-05T04:33:03.819987",
     "status": "completed"
    },
    "tags": []
   },
   "outputs": [
    {
     "data": {
      "text/plain": [
       "True"
      ]
     },
     "execution_count": 7,
     "metadata": {},
     "output_type": "execute_result"
    }
   ],
   "source": [
    "# Test 3\n",
    "# Try to create a source and target that reaches large minimum required depth \n",
    "src = None\n",
    "target = None\n",
    "\n",
    "\n",
    "\n",
    "\n",
    "\n",
    "\n",
    "iddfs(src, target, depth) # I have reached 25 in the next cell, Lets see if u can beat that"
   ]
  },
  {
   "cell_type": "code",
   "execution_count": 8,
   "metadata": {
    "execution": {
     "iopub.execute_input": "2020-10-05T04:33:03.853425Z",
     "iopub.status.busy": "2020-10-05T04:33:03.852886Z",
     "iopub.status.idle": "2020-10-05T04:33:03.855560Z",
     "shell.execute_reply": "2020-10-05T04:33:03.856002Z"
    },
    "papermill": {
     "duration": 0.01336,
     "end_time": "2020-10-05T04:33:03.856163",
     "exception": false,
     "start_time": "2020-10-05T04:33:03.842803",
     "status": "completed"
    },
    "tags": []
   },
   "outputs": [],
   "source": [
    "# Maximum Change \n",
    "# An Experiemnt I did to try and find the maximum required depth assuming \n",
    "# that this was the biggest possible change from src to target\n",
    "\n",
    "## Uncomment to try\n",
    "# src = [1, 2, 3, 4, 5, 6, 7, 8, -1]\n",
    "# target = [-1, 1, 2, 3, 4, 5, 6, 7, 8]\n",
    "\n",
    "# for i in range(1, 100):\n",
    "#     val = iddfs(src,target,i)\n",
    "#     print(i, val)\n",
    "#     if val == True:\n",
    "#         break"
   ]
  }
 ],
 "metadata": {
  "kernelspec": {
   "display_name": "Python 3",
   "language": "python",
   "name": "python3"
  },
  "language_info": {
   "codemirror_mode": {
    "name": "ipython",
    "version": 3
   },
   "file_extension": ".py",
   "mimetype": "text/x-python",
   "name": "python",
   "nbconvert_exporter": "python",
   "pygments_lexer": "ipython3",
   "version": "3.7.6"
  },
  "papermill": {
   "duration": 4.200234,
   "end_time": "2020-10-05T04:33:03.969695",
   "environment_variables": {},
   "exception": null,
   "input_path": "__notebook__.ipynb",
   "output_path": "__notebook__.ipynb",
   "parameters": {},
   "start_time": "2020-10-05T04:32:59.769461",
   "version": "2.1.0"
  }
 },
 "nbformat": 4,
 "nbformat_minor": 4
}
